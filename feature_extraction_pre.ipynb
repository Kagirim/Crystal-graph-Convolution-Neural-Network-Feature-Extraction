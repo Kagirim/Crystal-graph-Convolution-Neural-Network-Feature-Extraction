{
  "nbformat": 4,
  "nbformat_minor": 0,
  "metadata": {
    "colab": {
      "provenance": [],
      "collapsed_sections": []
    },
    "kernelspec": {
      "name": "python3",
      "display_name": "Python 3"
    },
    "language_info": {
      "name": "python"
    },
    "gpuClass": "standard"
  },
  "cells": [
    {
      "cell_type": "markdown",
      "source": [
        "# Import libraries \n",
        "\n"
      ],
      "metadata": {
        "id": "2LGSU0fojEen"
      }
    },
    {
      "cell_type": "code",
      "source": [
        "import pandas as pd\n",
        "from tqdm import tqdm\n",
        "from tqdm.notebook import tqdm_notebook\n",
        "import numpy as np\n",
        "import pandas as pd\n",
        "import numpy as np\n",
        "import re\n",
        "import os\n"
      ],
      "metadata": {
        "id": "ZILpNhJwcj7k"
      },
      "execution_count": null,
      "outputs": []
    },
    {
      "cell_type": "markdown",
      "source": [
        "# Read the Csv file "
      ],
      "metadata": {
        "id": "eFzmuwbMjKu9"
      }
    },
    {
      "cell_type": "code",
      "source": [
        "df = pd.read_csv('/content/unit_cell_catalog2000.csv')"
      ],
      "metadata": {
        "id": "kZ6YUIj_HrCd"
      },
      "execution_count": null,
      "outputs": []
    },
    {
      "cell_type": "markdown",
      "source": [
        "Save the properties(a,b,c,alpha,beta,gamma) in prop_df and we will get back to that in the training"
      ],
      "metadata": {
        "id": "OaeouNSFjPsx"
      }
    },
    {
      "cell_type": "code",
      "source": [
        "prop_df = df.iloc[: , 2:8]\n",
        "prop_df"
      ],
      "metadata": {
        "id": "Xq0nDJr7n0ma",
        "colab": {
          "base_uri": "https://localhost:8080/",
          "height": 424
        },
        "outputId": "87b2e0af-8fb0-4641-ad17-487105767ae9"
      },
      "execution_count": 147,
      "outputs": [
        {
          "output_type": "execute_result",
          "data": {
            "text/plain": [
              "            a        b        c  alpha  beta  gamma\n",
              "0     1.00000  1.00000  1.00000     90  90.0     90\n",
              "1     0.85075  0.57449  1.00000     90  90.0     90\n",
              "2     1.00000  1.00000  1.00000     90  90.0     90\n",
              "3     0.99471  0.99471  1.00000     90  90.0    120\n",
              "4     0.50300  0.50300  1.00000     90  90.0     90\n",
              "...       ...      ...      ...    ...   ...    ...\n",
              "1995  0.68452  1.00000  0.34059     90  90.0     90\n",
              "1996  0.99994  1.00000  0.80392     90  90.2     90\n",
              "1997  0.38120  0.44449  1.00000     90  90.0     90\n",
              "1998  0.22690  0.22690  1.00000     90  90.0     90\n",
              "1999  1.00000  0.97372  0.72121     90  99.4     90\n",
              "\n",
              "[2000 rows x 6 columns]"
            ],
            "text/html": [
              "\n",
              "  <div id=\"df-2260e5bd-5dd4-4695-8076-7e661641c872\">\n",
              "    <div class=\"colab-df-container\">\n",
              "      <div>\n",
              "<style scoped>\n",
              "    .dataframe tbody tr th:only-of-type {\n",
              "        vertical-align: middle;\n",
              "    }\n",
              "\n",
              "    .dataframe tbody tr th {\n",
              "        vertical-align: top;\n",
              "    }\n",
              "\n",
              "    .dataframe thead th {\n",
              "        text-align: right;\n",
              "    }\n",
              "</style>\n",
              "<table border=\"1\" class=\"dataframe\">\n",
              "  <thead>\n",
              "    <tr style=\"text-align: right;\">\n",
              "      <th></th>\n",
              "      <th>a</th>\n",
              "      <th>b</th>\n",
              "      <th>c</th>\n",
              "      <th>alpha</th>\n",
              "      <th>beta</th>\n",
              "      <th>gamma</th>\n",
              "    </tr>\n",
              "  </thead>\n",
              "  <tbody>\n",
              "    <tr>\n",
              "      <th>0</th>\n",
              "      <td>1.00000</td>\n",
              "      <td>1.00000</td>\n",
              "      <td>1.00000</td>\n",
              "      <td>90</td>\n",
              "      <td>90.0</td>\n",
              "      <td>90</td>\n",
              "    </tr>\n",
              "    <tr>\n",
              "      <th>1</th>\n",
              "      <td>0.85075</td>\n",
              "      <td>0.57449</td>\n",
              "      <td>1.00000</td>\n",
              "      <td>90</td>\n",
              "      <td>90.0</td>\n",
              "      <td>90</td>\n",
              "    </tr>\n",
              "    <tr>\n",
              "      <th>2</th>\n",
              "      <td>1.00000</td>\n",
              "      <td>1.00000</td>\n",
              "      <td>1.00000</td>\n",
              "      <td>90</td>\n",
              "      <td>90.0</td>\n",
              "      <td>90</td>\n",
              "    </tr>\n",
              "    <tr>\n",
              "      <th>3</th>\n",
              "      <td>0.99471</td>\n",
              "      <td>0.99471</td>\n",
              "      <td>1.00000</td>\n",
              "      <td>90</td>\n",
              "      <td>90.0</td>\n",
              "      <td>120</td>\n",
              "    </tr>\n",
              "    <tr>\n",
              "      <th>4</th>\n",
              "      <td>0.50300</td>\n",
              "      <td>0.50300</td>\n",
              "      <td>1.00000</td>\n",
              "      <td>90</td>\n",
              "      <td>90.0</td>\n",
              "      <td>90</td>\n",
              "    </tr>\n",
              "    <tr>\n",
              "      <th>...</th>\n",
              "      <td>...</td>\n",
              "      <td>...</td>\n",
              "      <td>...</td>\n",
              "      <td>...</td>\n",
              "      <td>...</td>\n",
              "      <td>...</td>\n",
              "    </tr>\n",
              "    <tr>\n",
              "      <th>1995</th>\n",
              "      <td>0.68452</td>\n",
              "      <td>1.00000</td>\n",
              "      <td>0.34059</td>\n",
              "      <td>90</td>\n",
              "      <td>90.0</td>\n",
              "      <td>90</td>\n",
              "    </tr>\n",
              "    <tr>\n",
              "      <th>1996</th>\n",
              "      <td>0.99994</td>\n",
              "      <td>1.00000</td>\n",
              "      <td>0.80392</td>\n",
              "      <td>90</td>\n",
              "      <td>90.2</td>\n",
              "      <td>90</td>\n",
              "    </tr>\n",
              "    <tr>\n",
              "      <th>1997</th>\n",
              "      <td>0.38120</td>\n",
              "      <td>0.44449</td>\n",
              "      <td>1.00000</td>\n",
              "      <td>90</td>\n",
              "      <td>90.0</td>\n",
              "      <td>90</td>\n",
              "    </tr>\n",
              "    <tr>\n",
              "      <th>1998</th>\n",
              "      <td>0.22690</td>\n",
              "      <td>0.22690</td>\n",
              "      <td>1.00000</td>\n",
              "      <td>90</td>\n",
              "      <td>90.0</td>\n",
              "      <td>90</td>\n",
              "    </tr>\n",
              "    <tr>\n",
              "      <th>1999</th>\n",
              "      <td>1.00000</td>\n",
              "      <td>0.97372</td>\n",
              "      <td>0.72121</td>\n",
              "      <td>90</td>\n",
              "      <td>99.4</td>\n",
              "      <td>90</td>\n",
              "    </tr>\n",
              "  </tbody>\n",
              "</table>\n",
              "<p>2000 rows × 6 columns</p>\n",
              "</div>\n",
              "      <button class=\"colab-df-convert\" onclick=\"convertToInteractive('df-2260e5bd-5dd4-4695-8076-7e661641c872')\"\n",
              "              title=\"Convert this dataframe to an interactive table.\"\n",
              "              style=\"display:none;\">\n",
              "        \n",
              "  <svg xmlns=\"http://www.w3.org/2000/svg\" height=\"24px\"viewBox=\"0 0 24 24\"\n",
              "       width=\"24px\">\n",
              "    <path d=\"M0 0h24v24H0V0z\" fill=\"none\"/>\n",
              "    <path d=\"M18.56 5.44l.94 2.06.94-2.06 2.06-.94-2.06-.94-.94-2.06-.94 2.06-2.06.94zm-11 1L8.5 8.5l.94-2.06 2.06-.94-2.06-.94L8.5 2.5l-.94 2.06-2.06.94zm10 10l.94 2.06.94-2.06 2.06-.94-2.06-.94-.94-2.06-.94 2.06-2.06.94z\"/><path d=\"M17.41 7.96l-1.37-1.37c-.4-.4-.92-.59-1.43-.59-.52 0-1.04.2-1.43.59L10.3 9.45l-7.72 7.72c-.78.78-.78 2.05 0 2.83L4 21.41c.39.39.9.59 1.41.59.51 0 1.02-.2 1.41-.59l7.78-7.78 2.81-2.81c.8-.78.8-2.07 0-2.86zM5.41 20L4 18.59l7.72-7.72 1.47 1.35L5.41 20z\"/>\n",
              "  </svg>\n",
              "      </button>\n",
              "      \n",
              "  <style>\n",
              "    .colab-df-container {\n",
              "      display:flex;\n",
              "      flex-wrap:wrap;\n",
              "      gap: 12px;\n",
              "    }\n",
              "\n",
              "    .colab-df-convert {\n",
              "      background-color: #E8F0FE;\n",
              "      border: none;\n",
              "      border-radius: 50%;\n",
              "      cursor: pointer;\n",
              "      display: none;\n",
              "      fill: #1967D2;\n",
              "      height: 32px;\n",
              "      padding: 0 0 0 0;\n",
              "      width: 32px;\n",
              "    }\n",
              "\n",
              "    .colab-df-convert:hover {\n",
              "      background-color: #E2EBFA;\n",
              "      box-shadow: 0px 1px 2px rgba(60, 64, 67, 0.3), 0px 1px 3px 1px rgba(60, 64, 67, 0.15);\n",
              "      fill: #174EA6;\n",
              "    }\n",
              "\n",
              "    [theme=dark] .colab-df-convert {\n",
              "      background-color: #3B4455;\n",
              "      fill: #D2E3FC;\n",
              "    }\n",
              "\n",
              "    [theme=dark] .colab-df-convert:hover {\n",
              "      background-color: #434B5C;\n",
              "      box-shadow: 0px 1px 3px 1px rgba(0, 0, 0, 0.15);\n",
              "      filter: drop-shadow(0px 1px 2px rgba(0, 0, 0, 0.3));\n",
              "      fill: #FFFFFF;\n",
              "    }\n",
              "  </style>\n",
              "\n",
              "      <script>\n",
              "        const buttonEl =\n",
              "          document.querySelector('#df-2260e5bd-5dd4-4695-8076-7e661641c872 button.colab-df-convert');\n",
              "        buttonEl.style.display =\n",
              "          google.colab.kernel.accessAllowed ? 'block' : 'none';\n",
              "\n",
              "        async function convertToInteractive(key) {\n",
              "          const element = document.querySelector('#df-2260e5bd-5dd4-4695-8076-7e661641c872');\n",
              "          const dataTable =\n",
              "            await google.colab.kernel.invokeFunction('convertToInteractive',\n",
              "                                                     [key], {});\n",
              "          if (!dataTable) return;\n",
              "\n",
              "          const docLinkHtml = 'Like what you see? Visit the ' +\n",
              "            '<a target=\"_blank\" href=https://colab.research.google.com/notebooks/data_table.ipynb>data table notebook</a>'\n",
              "            + ' to learn more about interactive tables.';\n",
              "          element.innerHTML = '';\n",
              "          dataTable['output_type'] = 'display_data';\n",
              "          await google.colab.output.renderOutput(dataTable, element);\n",
              "          const docLink = document.createElement('div');\n",
              "          docLink.innerHTML = docLinkHtml;\n",
              "          element.appendChild(docLink);\n",
              "        }\n",
              "      </script>\n",
              "    </div>\n",
              "  </div>\n",
              "  "
            ]
          },
          "metadata": {},
          "execution_count": 147
        }
      ]
    },
    {
      "cell_type": "markdown",
      "source": [
        "Same here to the output : Save the output(cx,cy,cz,nx,ny,nz) in y  "
      ],
      "metadata": {
        "id": "tvyUqKAljcgJ"
      }
    },
    {
      "cell_type": "code",
      "source": [
        "y = df.iloc[: , 21:27]\n",
        "y"
      ],
      "metadata": {
        "id": "EiYIq3FvHvey"
      },
      "execution_count": null,
      "outputs": []
    },
    {
      "cell_type": "markdown",
      "source": [
        "Extracting coordinates for adjacency matrix"
      ],
      "metadata": {
        "id": "O7-kADWsQtfT"
      }
    },
    {
      "cell_type": "markdown",
      "source": [
        "Classify into first_nodes for first group and sec_node for the second\n",
        "split the x, y and z nodes"
      ],
      "metadata": {
        "id": "C-uIrXe-aqRI"
      }
    },
    {
      "cell_type": "code",
      "source": [
        "from numpy.core.fromnumeric import shape\n",
        "\n",
        "column_names = df.columns.values.tolist()\n",
        "column_dict = {}\n",
        "for i in column_names:\n",
        "    column_dict[column_names.index(i)] = i\n",
        "\n",
        "nodal_coords = df.iloc[: , column_names.index(\"Nodal_nrow\"):column_names.index(\"Nodal_ncol\")+1]\n",
        "\n",
        "bar_coords = df.iloc[: , column_names.index(\"Bar_nrow\"):column_names.index(\"Bar_ncol\")+1]\n",
        "\n",
        "nodal_positions = pd.DataFrame()\n",
        "bar_connectivity = pd.DataFrame()\n",
        "first_nodes = pd.DataFrame()\n",
        "second_nodes = pd.DataFrame()\n",
        "x_nodes = pd.DataFrame()\n",
        "y_nodes = pd.DataFrame()\n",
        "z_nodes = pd.DataFrame()\n",
        "for index, column_name in column_dict.items():\n",
        "    if re.search(\"^nodal_positions\", column_name):\n",
        "        nodal_positions[column_name] = df.iloc[: , index]\n",
        "        node_num = int(re.search(\"^nodal_positions_(\\d+?)_\", column_name).group(1))\n",
        "        if column_name.endswith(\"1\"):\n",
        "            \n",
        "            x_nodes[node_num] = df.iloc[: , index]\n",
        "\n",
        "        if column_name.endswith(\"2\"):\n",
        "            y_nodes[node_num] = df.iloc[: , index]\n",
        "\n",
        "        if column_name.endswith(\"3\"):\n",
        "            z_nodes[node_num] = df.iloc[: , index]\n",
        "\n",
        "    if re.search(\"^bar_connectivity\", column_name):\n",
        "        bar_connectivity[column_name] = df.iloc[: , index]\n",
        "        bar_num = int(re.search(\"^bar_connectivity_(\\d+?)_\", column_name).group(1))\n",
        "        if column_name.endswith(\"1\"):\n",
        "            first_nodes[bar_num] = df.iloc[: , index]\n",
        "        if column_name.endswith(\"2\"):\n",
        "            second_nodes[bar_num] = df.iloc[: , index]\n",
        "\n",
        "x_nodes = x_nodes.fillna(0)\n",
        "y_nodes = y_nodes.fillna(0)\n",
        "z_nodes = z_nodes.fillna(0)\n",
        "first_nodes = first_nodes.fillna(0)\n",
        "second_nodes = second_nodes.fillna(0)"
      ],
      "metadata": {
        "id": "Fws9rT9OQOHo"
      },
      "execution_count": null,
      "outputs": []
    },
    {
      "cell_type": "markdown",
      "source": [
        "# Now we want to calculate the distace between atoms (nodes) "
      ],
      "metadata": {
        "id": "ylzEsFH7jyS_"
      }
    },
    {
      "cell_type": "code",
      "source": [
        "import math\n",
        "\n",
        "distances = pd.DataFrame()\n",
        "i_df = pd.DataFrame()\n",
        "m_df = pd.DataFrame()\n",
        "n_df = pd.DataFrame()\n",
        "for (index1, s1), (index2, s2) in zip(first_nodes.iterrows(), second_nodes.iterrows()):\n",
        "    for node_number in list(first_nodes.columns):\n",
        "        node1 = int(s1[node_number])\n",
        "        node2 = int(s2[node_number])\n",
        "\n",
        "        try:\n",
        "            x1 = x_nodes[node1][index1]\n",
        "            x2 = x_nodes[node2][index2]\n",
        "\n",
        "            y1 = y_nodes[node1][index1]\n",
        "            y2 = y_nodes[node2][index2]\n",
        "\n",
        "            z1 = z_nodes[node1][index1]\n",
        "            z2 = z_nodes[node2][index2]\n",
        "            \n",
        "            edge_length = math.sqrt((x2 - x1)**2 + (y2 - y1)**2 + (z2 - z1)**2)\n",
        "\n",
        "            i = (x2-x1) / edge_length\n",
        "            m = (y2 - y1) / edge_length\n",
        "            n = (z2 - z1) / edge_length\n",
        "        except:\n",
        "            edge_length = 0\n",
        "\n",
        "            i, m, n = 0, 0, 0\n",
        "\n",
        "        distances[node_number] = edge_length\n",
        "        i_df[node_number] = edge_length\n",
        "        m_df[node_number] = edge_length\n",
        "        n_df[node_number] = edge_length"
      ],
      "metadata": {
        "id": "1x_PAZK7Uo6K"
      },
      "execution_count": null,
      "outputs": []
    },
    {
      "cell_type": "markdown",
      "source": [
        "Build a dataframe to contain all computed data"
      ],
      "metadata": {
        "id": "C7pvX-31mWcD"
      }
    },
    {
      "cell_type": "code",
      "source": [
        "model_data = pd.concat([prop_df, distances, i_df, m_df, n_df], axis=1).to_dict()"
      ],
      "metadata": {
        "id": "W_RIkwFJinnp"
      },
      "execution_count": null,
      "outputs": []
    },
    {
      "cell_type": "markdown",
      "source": [
        "## Modeling"
      ],
      "metadata": {
        "id": "vuhJ1cjWrGG4"
      }
    },
    {
      "cell_type": "markdown",
      "source": [
        "Install All necessary modules"
      ],
      "metadata": {
        "id": "BJZvvrNyXohM"
      }
    },
    {
      "cell_type": "code",
      "source": [
        "#!pip install pymatgen\n",
        "#!pip install mendeleev \n",
        "#!pip install graphviz \n",
        "#!pip install pydot \n",
        "#!pip install sklearn\n",
        "#!pip install crysnet"
      ],
      "metadata": {
        "id": "-XI7N52VXrqy"
      },
      "execution_count": null,
      "outputs": []
    },
    {
      "cell_type": "code",
      "source": [
        "from crysnet.data import Dataset\n",
        "from crysnet.data.generator import GraphGenerator\n",
        "from crysnet.models import GNN\n",
        "from crysnet.models.gnnmodel import CgcnnModel\n",
        "from pymatgen.core.structure import Structure\n",
        "from pathlib import Path"
      ],
      "metadata": {
        "id": "FcbIcXafXMPO"
      },
      "execution_count": null,
      "outputs": []
    },
    {
      "cell_type": "code",
      "source": [
        "ModulePath = Path('__file__').parent.absolute() # workdir"
      ],
      "metadata": {
        "id": "0hAt6rq1wIzP"
      },
      "execution_count": null,
      "outputs": []
    },
    {
      "cell_type": "code",
      "source": [
        "dataset = Dataset(task_type='multiclassification', data_path=ModulePath)\n",
        "BATCH_SIZE = 1600\n",
        "DATA_SIZE = None\n",
        "CUTOFF = 2.5\n",
        "\n",
        "#structure the dataset for consumption by model\n",
        "dataset.prepare_x(model_data)\n",
        "dataset.prepare_y()"
      ],
      "metadata": {
        "id": "RJxb4LUmvx89"
      },
      "execution_count": null,
      "outputs": []
    },
    {
      "cell_type": "code",
      "source": [
        "Generators = GraphGenerator(dataset, data_size=DATA_SIZE, batch_size=BATCH_SIZE, cutoff=CUTOFF)\n",
        "train_data = Generators.train_generator\n",
        "valid_data = Generators.valid_generator\n",
        "test_data = Generators.test_generator\n",
        "multiclassification = Generators.multiclassification  "
      ],
      "metadata": {
        "id": "gSjp-9mlxy8p"
      },
      "execution_count": null,
      "outputs": []
    },
    {
      "cell_type": "code",
      "source": [
        "gnn = GNN(model=CgcnnModel, atom_dim=16, bond_dim=64, num_atom=118, \n",
        "          state_dim=16, sp_dim=230, units=32, edge_steps=1, \n",
        "          message_steps=1, transform_steps=1, num_attention_heads=8, \n",
        "          dense_units=64, output_dim=64, readout_units=64, dropout=0.0, \n",
        "          reg0=0.00, reg1=0.00, reg2=0.00, reg3=0.00, reg_rec=0.00, batch_size=BATCH_SIZE, \n",
        "          spherical_harmonics=True, regression=dataset.regression, optimizer = 'Adam')"
      ],
      "metadata": {
        "id": "Yy7kYDh5Zyxq"
      },
      "execution_count": null,
      "outputs": []
    },
    {
      "cell_type": "code",
      "source": [
        "try:\n",
        "  gnn.train(train_data, valid_data, test_data, epochs=700, lr=3e-3, warm_up=True, load_weights=False, verbose=1, checkpoints=None, save_weights_only=True, workdir=ModulePath)\n",
        "  gnn.predict_datas(test_data, workdir=ModulePath)    # predict on test datas with labels\n",
        "except Exception as err:\n",
        "  print(err)\n",
        "y_pred_keras = gnn.predict(datas)"
      ],
      "metadata": {
        "id": "krkGf758rDwR"
      },
      "execution_count": null,
      "outputs": []
    }
  ]
}